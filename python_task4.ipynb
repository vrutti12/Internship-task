{
 "cells": [
  {
   "cell_type": "code",
   "execution_count": 2,
   "id": "20d52898-cd7e-4e76-b113-dab6bc50afb8",
   "metadata": {},
   "outputs": [
    {
     "name": "stdout",
     "output_type": "stream",
     "text": [
      "Original tuple: ('Math', 'Science', 'English', 'Math', 'History')\n"
     ]
    }
   ],
   "source": [
    "#Create a sample tuple\n",
    "# Creating a tuple of top subjects\n",
    "subjects = (\"Math\", \"Science\", \"English\", \"Math\", \"History\")\n",
    "\n",
    "print(\"Original tuple:\", subjects)\n"
   ]
  },
  {
   "cell_type": "code",
   "execution_count": 3,
   "id": "45ce3306-890b-47bb-81b5-241d69b012ce",
   "metadata": {},
   "outputs": [
    {
     "name": "stdout",
     "output_type": "stream",
     "text": [
      "First subject: Math\n",
      "Last subject: History\n",
      "First 3 subjects: ('Math', 'Science', 'English')\n"
     ]
    }
   ],
   "source": [
    "#Accessing Elements (Indexing & Slicing)\n",
    "# Accessing elements by index\n",
    "print(\"First subject:\", subjects[0])\n",
    "print(\"Last subject:\", subjects[-1])\n",
    "\n",
    "# Slicing - extract first 3 elements\n",
    "print(\"First 3 subjects:\", subjects[0:3])\n"
   ]
  },
  {
   "cell_type": "code",
   "execution_count": 4,
   "id": "b5b9afef-7392-4243-b3a1-baefc5c9a104",
   "metadata": {},
   "outputs": [
    {
     "name": "stdout",
     "output_type": "stream",
     "text": [
      "Subjects from index 1 to 3: ('Science', 'English', 'Math')\n"
     ]
    }
   ],
   "source": [
    "#Slicing\n",
    "# Extracting a middle slice\n",
    "print(\"Subjects from index 1 to 3:\", subjects[1:4])"
   ]
  },
  {
   "cell_type": "code",
   "execution_count": 5,
   "id": "256fcde3-9f2f-49e5-9c7c-97215946a793",
   "metadata": {},
   "outputs": [
    {
     "name": "stdout",
     "output_type": "stream",
     "text": [
      "Concatenated tuple: ('Math', 'Science', 'English', 'Math', 'History', 'Art', 'Music')\n"
     ]
    }
   ],
   "source": [
    "#Concatenation\n",
    "# Combine two tuples\n",
    "extra_subjects = (\"Art\", \"Music\")\n",
    "all_subjects = subjects + extra_subjects\n",
    "\n",
    "print(\"Concatenated tuple:\", all_subjects)\n"
   ]
  },
  {
   "cell_type": "code",
   "execution_count": 6,
   "id": "c8767d09-1e13-47cf-a57b-b4d414bc012f",
   "metadata": {},
   "outputs": [
    {
     "name": "stdout",
     "output_type": "stream",
     "text": [
      "Repeated tuple: ('Math', 'Science', 'English', 'Math', 'History', 'Math', 'Science', 'English', 'Math', 'History')\n"
     ]
    }
   ],
   "source": [
    "#Repetition\n",
    "# Repeat the tuple 2 times\n",
    "repeated = subjects * 2\n",
    "print(\"Repeated tuple:\", repeated)\n"
   ]
  },
  {
   "cell_type": "code",
   "execution_count": 7,
   "id": "f16d3c49-0d8b-40bc-8165-d04c6950c529",
   "metadata": {},
   "outputs": [
    {
     "name": "stdout",
     "output_type": "stream",
     "text": [
      "Count of 'Math': 2\n"
     ]
    }
   ],
   "source": [
    "#Count an Element\n",
    "# Count how many times 'Math' appears\n",
    "math_count = subjects.count(\"Math\")\n",
    "print(\"Count of 'Math':\", math_count)\n"
   ]
  },
  {
   "cell_type": "code",
   "execution_count": 8,
   "id": "3d299b08-3f18-43a9-8d2a-e6cbafa09d89",
   "metadata": {},
   "outputs": [
    {
     "name": "stdout",
     "output_type": "stream",
     "text": [
      "Index of 'English': 2\n"
     ]
    }
   ],
   "source": [
    "#Find Index of an Element\n",
    "# Find index of 'English'\n",
    "english_index = subjects.index(\"English\")\n",
    "print(\"Index of 'English':\", english_index)\n"
   ]
  },
  {
   "cell_type": "code",
   "execution_count": null,
   "id": "88d337a6-f055-4195-a5c2-011efdd61355",
   "metadata": {},
   "outputs": [],
   "source": []
  }
 ],
 "metadata": {
  "kernelspec": {
   "display_name": "Python 3 (ipykernel)",
   "language": "python",
   "name": "python3"
  },
  "language_info": {
   "codemirror_mode": {
    "name": "ipython",
    "version": 3
   },
   "file_extension": ".py",
   "mimetype": "text/x-python",
   "name": "python",
   "nbconvert_exporter": "python",
   "pygments_lexer": "ipython3",
   "version": "3.13.2"
  }
 },
 "nbformat": 4,
 "nbformat_minor": 5
}
