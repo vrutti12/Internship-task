{
 "cells": [
  {
   "cell_type": "code",
   "execution_count": 1,
   "id": "a3988759-d8c2-47e6-b3d2-21b2e3477aeb",
   "metadata": {},
   "outputs": [],
   "source": [
    "import pandas as pd"
   ]
  },
  {
   "cell_type": "code",
   "execution_count": 2,
   "id": "5ad7b955-6c83-4103-8ac3-303002f5074a",
   "metadata": {},
   "outputs": [
    {
     "name": "stdout",
     "output_type": "stream",
     "text": [
      "   math score  reading score  writing score\n",
      "0          72             72             74\n",
      "1          69             90             88\n",
      "2          90             95             93\n",
      "3          47             57             44\n",
      "4          76             78             75\n"
     ]
    }
   ],
   "source": [
    "\n",
    "#Load the dataset\n",
    "df = pd.read_csv(\"StudentsPerformance.csv\")\n",
    "\n",
    "# View first few rows\n",
    "print(df[['math score', 'reading score', 'writing score']].head())\n"
   ]
  },
  {
   "cell_type": "code",
   "execution_count": 3,
   "id": "e87d0aed-7715-4fb1-9346-12ee5657787d",
   "metadata": {},
   "outputs": [
    {
     "name": "stdout",
     "output_type": "stream",
     "text": [
      "Addition: 144\n",
      "Subtraction: 0\n",
      "Multiplication: 144\n",
      "Division: 36.0\n"
     ]
    }
   ],
   "source": [
    "# Arithmetic operations\n",
    "math = df['math score'][0]\n",
    "reading = df['reading score'][0]\n",
    "\n",
    "print(\"Addition:\", math + reading)\n",
    "print(\"Subtraction:\", math - reading)\n",
    "print(\"Multiplication:\", math * 2)\n",
    "print(\"Division:\", math / 2)\n"
   ]
  },
  {
   "cell_type": "code",
   "execution_count": 4,
   "id": "70eb20c7-ff36-41a4-91d4-5c04b82718b1",
   "metadata": {},
   "outputs": [
    {
     "name": "stdout",
     "output_type": "stream",
     "text": [
      "Is math > reading? False\n",
      "Is math == reading? True\n",
      "Is math != reading? False\n"
     ]
    }
   ],
   "source": [
    "# Comparison operators\n",
    "print(\"Is math > reading?\", math > reading)\n",
    "print(\"Is math == reading?\", math == reading)\n",
    "print(\"Is math != reading?\", math != reading)"
   ]
  },
  {
   "cell_type": "code",
   "execution_count": 5,
   "id": "3ada7a4d-3dd9-42ac-9763-79b68fdd1178",
   "metadata": {},
   "outputs": [
    {
     "name": "stdout",
     "output_type": "stream",
     "text": [
      "Both scores > 70: True\n",
      "Either score > 70: True\n"
     ]
    }
   ],
   "source": [
    "# Logical operations\n",
    "math_good = math > 70\n",
    "reading_good = reading > 70\n",
    "\n",
    "print(\"Both scores > 70:\", math_good and reading_good)\n",
    "print(\"Either score > 70:\", math_good or reading_good)\n"
   ]
  },
  {
   "cell_type": "code",
   "execution_count": 6,
   "id": "94b4ac5a-0dc0-478a-8625-b84401195c36",
   "metadata": {},
   "outputs": [
    {
     "name": "stdout",
     "output_type": "stream",
     "text": [
      "Original x: 10\n",
      "After x += 5: 15\n",
      "After x *= 2: 30\n"
     ]
    }
   ],
   "source": [
    "# Assignment operators\n",
    "x = 10\n",
    "print(\"Original x:\", x)\n",
    "\n",
    "x += 5\n",
    "print(\"After x += 5:\", x)\n",
    "\n",
    "x *= 2\n",
    "print(\"After x *= 2:\", x)"
   ]
  },
  {
   "cell_type": "code",
   "execution_count": null,
   "id": "0869312e-a5d2-48bd-80ad-78c7f93131ff",
   "metadata": {},
   "outputs": [],
   "source": []
  }
 ],
 "metadata": {
  "kernelspec": {
   "display_name": "Python 3 (ipykernel)",
   "language": "python",
   "name": "python3"
  },
  "language_info": {
   "codemirror_mode": {
    "name": "ipython",
    "version": 3
   },
   "file_extension": ".py",
   "mimetype": "text/x-python",
   "name": "python",
   "nbconvert_exporter": "python",
   "pygments_lexer": "ipython3",
   "version": "3.13.2"
  }
 },
 "nbformat": 4,
 "nbformat_minor": 5
}
