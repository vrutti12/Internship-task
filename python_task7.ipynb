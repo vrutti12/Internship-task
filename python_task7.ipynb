{
 "cells": [
  {
   "cell_type": "code",
   "execution_count": 16,
   "id": "25fb9995-b5d8-477f-8b9b-4fff29d80e82",
   "metadata": {},
   "outputs": [
    {
     "ename": "IndentationError",
     "evalue": "expected an indented block after function definition on line 3 (1164957912.py, line 4)",
     "output_type": "error",
     "traceback": [
      "  \u001b[36mCell\u001b[39m\u001b[36m \u001b[39m\u001b[32mIn[16]\u001b[39m\u001b[32m, line 4\u001b[39m\n\u001b[31m    \u001b[39m\u001b[31mprint(\"Hello!\")  # This will raise an IndentationError\u001b[39m\n    ^\n\u001b[31mIndentationError\u001b[39m\u001b[31m:\u001b[39m expected an indented block after function definition on line 3\n"
     ]
    }
   ],
   "source": [
    "##Common Python Errors\n",
    "#IndentationError \n",
    "def greet():\n",
    "print(\"Hello!\")  # This will raise an IndentationError\n",
    "\n"
   ]
  },
  {
   "cell_type": "code",
   "execution_count": 17,
   "id": "97816db5-5be5-49c1-917e-ddde774466d7",
   "metadata": {},
   "outputs": [],
   "source": [
    "#Fix:\n",
    "def greet():\n",
    "    print(\"Hello\")"
   ]
  },
  {
   "cell_type": "code",
   "execution_count": 18,
   "id": "cd189f21-37b3-4577-9c0f-72c91acaf21f",
   "metadata": {},
   "outputs": [
    {
     "name": "stdout",
     "output_type": "stream",
     "text": [
      "95\n"
     ]
    }
   ],
   "source": [
    "#print(score)  # Variable is not defined yet\n",
    "# NameError - FIXED\n",
    "score = 95\n",
    "print(score)\n",
    "#Always define variables first.\n",
    "\n"
   ]
  },
  {
   "cell_type": "code",
   "execution_count": 8,
   "id": "2da52786-8bfd-43ca-9315-14afd2889f89",
   "metadata": {},
   "outputs": [
    {
     "ename": "ValueError",
     "evalue": "invalid literal for int() with base 10: 'abc'",
     "output_type": "error",
     "traceback": [
      "\u001b[31m---------------------------------------------------------------------------\u001b[39m",
      "\u001b[31mValueError\u001b[39m                                Traceback (most recent call last)",
      "\u001b[36mCell\u001b[39m\u001b[36m \u001b[39m\u001b[32mIn[8]\u001b[39m\u001b[32m, line 2\u001b[39m\n\u001b[32m      1\u001b[39m \u001b[38;5;66;03m# ValueError\u001b[39;00m\n\u001b[32m----> \u001b[39m\u001b[32m2\u001b[39m num = \u001b[38;5;28;43mint\u001b[39;49m\u001b[43m(\u001b[49m\u001b[33;43m\"\u001b[39;49m\u001b[33;43mabc\u001b[39;49m\u001b[33;43m\"\u001b[39;49m\u001b[43m)\u001b[49m  \u001b[38;5;66;03m# Trying to convert a non-numeric string to int\u001b[39;00m\n",
      "\u001b[31mValueError\u001b[39m: invalid literal for int() with base 10: 'abc'"
     ]
    }
   ],
   "source": [
    "# ValueError\n",
    "num = int(\"abc\")  # Trying to convert a non-numeric string to int"
   ]
  },
  {
   "cell_type": "code",
   "execution_count": 9,
   "id": "8181b6c0-3123-4aa4-bdd0-86bd702d5e48",
   "metadata": {},
   "outputs": [],
   "source": [
    "# ValueError - FIXED\n",
    "text = \"123\"\n",
    "num = int(text)"
   ]
  },
  {
   "cell_type": "code",
   "execution_count": 10,
   "id": "49d4989e-f1a1-4bc0-a105-801cc1d049e9",
   "metadata": {},
   "outputs": [
    {
     "ename": "TypeError",
     "evalue": "can only concatenate str (not \"int\") to str",
     "output_type": "error",
     "traceback": [
      "\u001b[31m---------------------------------------------------------------------------\u001b[39m",
      "\u001b[31mTypeError\u001b[39m                                 Traceback (most recent call last)",
      "\u001b[36mCell\u001b[39m\u001b[36m \u001b[39m\u001b[32mIn[10]\u001b[39m\u001b[32m, line 3\u001b[39m\n\u001b[32m      1\u001b[39m \u001b[38;5;66;03m#TypeError\u001b[39;00m\n\u001b[32m      2\u001b[39m age = \u001b[32m25\u001b[39m\n\u001b[32m----> \u001b[39m\u001b[32m3\u001b[39m greeting = \u001b[33;43m\"\u001b[39;49m\u001b[33;43mYou are \u001b[39;49m\u001b[33;43m\"\u001b[39;49m\u001b[43m \u001b[49m\u001b[43m+\u001b[49m\u001b[43m \u001b[49m\u001b[43mage\u001b[49m + \u001b[33m\"\u001b[39m\u001b[33m years old.\u001b[39m\u001b[33m\"\u001b[39m  \u001b[38;5;66;03m# Can't add string and int\u001b[39;00m\n",
      "\u001b[31mTypeError\u001b[39m: can only concatenate str (not \"int\") to str"
     ]
    }
   ],
   "source": [
    "#TypeError\n",
    "age = 25\n",
    "greeting = \"You are \" + age + \" years old.\"  # Can't add string and int\n"
   ]
  },
  {
   "cell_type": "code",
   "execution_count": 11,
   "id": "ce4cf314-caaa-4d17-8d0c-4d9c2a27281e",
   "metadata": {},
   "outputs": [],
   "source": [
    "#Fix:\n",
    "greeting = \"You are \" + str(age) + \" years old.\"\n"
   ]
  },
  {
   "cell_type": "code",
   "execution_count": 12,
   "id": "6b993509-2015-47ad-a8d8-3995c7015e69",
   "metadata": {},
   "outputs": [
    {
     "ename": "IndexError",
     "evalue": "list index out of range",
     "output_type": "error",
     "traceback": [
      "\u001b[31m---------------------------------------------------------------------------\u001b[39m",
      "\u001b[31mIndexError\u001b[39m                                Traceback (most recent call last)",
      "\u001b[36mCell\u001b[39m\u001b[36m \u001b[39m\u001b[32mIn[12]\u001b[39m\u001b[32m, line 3\u001b[39m\n\u001b[32m      1\u001b[39m \u001b[38;5;66;03m#IndexError\u001b[39;00m\n\u001b[32m      2\u001b[39m my_list = [\u001b[32m1\u001b[39m, \u001b[32m2\u001b[39m, \u001b[32m3\u001b[39m]\n\u001b[32m----> \u001b[39m\u001b[32m3\u001b[39m \u001b[38;5;28mprint\u001b[39m(\u001b[43mmy_list\u001b[49m\u001b[43m[\u001b[49m\u001b[32;43m5\u001b[39;49m\u001b[43m]\u001b[49m)  \u001b[38;5;66;03m# Index 5 doesn’t exist\u001b[39;00m\n",
      "\u001b[31mIndexError\u001b[39m: list index out of range"
     ]
    }
   ],
   "source": [
    "#IndexError\n",
    "my_list = [1, 2, 3]\n",
    "print(my_list[5])  # Index 5 doesn’t exist\n"
   ]
  },
  {
   "cell_type": "code",
   "execution_count": 13,
   "id": "8f3c9e4a-2a5b-4d8a-8167-13887bc76d49",
   "metadata": {},
   "outputs": [
    {
     "name": "stdout",
     "output_type": "stream",
     "text": [
      "3\n"
     ]
    }
   ],
   "source": [
    "#Fix:\n",
    "print(my_list[-1])  # Safely access the last element\n"
   ]
  },
  {
   "cell_type": "code",
   "execution_count": 14,
   "id": "fcbfda16-04f7-4de3-a0ac-8fb19793ac2e",
   "metadata": {},
   "outputs": [
    {
     "ename": "KeyError",
     "evalue": "'grade'",
     "output_type": "error",
     "traceback": [
      "\u001b[31m---------------------------------------------------------------------------\u001b[39m",
      "\u001b[31mKeyError\u001b[39m                                  Traceback (most recent call last)",
      "\u001b[36mCell\u001b[39m\u001b[36m \u001b[39m\u001b[32mIn[14]\u001b[39m\u001b[32m, line 3\u001b[39m\n\u001b[32m      1\u001b[39m \u001b[38;5;66;03m#KeyError\u001b[39;00m\n\u001b[32m      2\u001b[39m student = {\u001b[33m\"\u001b[39m\u001b[33mname\u001b[39m\u001b[33m\"\u001b[39m: \u001b[33m\"\u001b[39m\u001b[33mAmit\u001b[39m\u001b[33m\"\u001b[39m, \u001b[33m\"\u001b[39m\u001b[33mage\u001b[39m\u001b[33m\"\u001b[39m: \u001b[32m20\u001b[39m}\n\u001b[32m----> \u001b[39m\u001b[32m3\u001b[39m \u001b[38;5;28mprint\u001b[39m(\u001b[43mstudent\u001b[49m\u001b[43m[\u001b[49m\u001b[33;43m\"\u001b[39;49m\u001b[33;43mgrade\u001b[39;49m\u001b[33;43m\"\u001b[39;49m\u001b[43m]\u001b[49m)  \u001b[38;5;66;03m# 'grade' key doesn't exist\u001b[39;00m\n",
      "\u001b[31mKeyError\u001b[39m: 'grade'"
     ]
    }
   ],
   "source": [
    "#KeyError\n",
    "student = {\"name\": \"Amit\", \"age\": 20}\n",
    "print(student[\"grade\"])  # 'grade' key doesn't exist\n"
   ]
  },
  {
   "cell_type": "code",
   "execution_count": 15,
   "id": "129d0f58-1ce3-4f9f-a317-15a7db4ffca8",
   "metadata": {},
   "outputs": [
    {
     "name": "stdout",
     "output_type": "stream",
     "text": [
      "N/A\n"
     ]
    }
   ],
   "source": [
    "#Fix:\n",
    "print(student.get(\"grade\", \"N/A\"))  # Safe way\n"
   ]
  },
  {
   "cell_type": "code",
   "execution_count": null,
   "id": "8b62dc05-5faf-4a25-86b7-d5b8e805e1c0",
   "metadata": {},
   "outputs": [],
   "source": []
  }
 ],
 "metadata": {
  "kernelspec": {
   "display_name": "Python 3 (ipykernel)",
   "language": "python",
   "name": "python3"
  },
  "language_info": {
   "codemirror_mode": {
    "name": "ipython",
    "version": 3
   },
   "file_extension": ".py",
   "mimetype": "text/x-python",
   "name": "python",
   "nbconvert_exporter": "python",
   "pygments_lexer": "ipython3",
   "version": "3.13.2"
  }
 },
 "nbformat": 4,
 "nbformat_minor": 5
}
