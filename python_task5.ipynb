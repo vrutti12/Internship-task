{
 "cells": [
  {
   "cell_type": "code",
   "execution_count": 9,
   "id": "fac8c8d9-77c9-431d-844d-c30851b79177",
   "metadata": {},
   "outputs": [],
   "source": [
    "import pandas as pd\n",
    "\n",
    "# Load the dataset\n",
    "df = pd.read_csv(\"StudentsPerformance.csv\")\n"
   ]
  },
  {
   "cell_type": "code",
   "execution_count": 10,
   "id": "7b64fcb8-86bb-4591-a76b-4d54a7ed1ee5",
   "metadata": {},
   "outputs": [
    {
     "data": {
      "text/html": [
       "<div>\n",
       "<style scoped>\n",
       "    .dataframe tbody tr th:only-of-type {\n",
       "        vertical-align: middle;\n",
       "    }\n",
       "\n",
       "    .dataframe tbody tr th {\n",
       "        vertical-align: top;\n",
       "    }\n",
       "\n",
       "    .dataframe thead th {\n",
       "        text-align: right;\n",
       "    }\n",
       "</style>\n",
       "<table border=\"1\" class=\"dataframe\">\n",
       "  <thead>\n",
       "    <tr style=\"text-align: right;\">\n",
       "      <th></th>\n",
       "      <th>gender</th>\n",
       "      <th>race/ethnicity</th>\n",
       "      <th>parental level of education</th>\n",
       "      <th>lunch</th>\n",
       "      <th>test preparation course</th>\n",
       "      <th>math score</th>\n",
       "      <th>reading score</th>\n",
       "      <th>writing score</th>\n",
       "    </tr>\n",
       "  </thead>\n",
       "  <tbody>\n",
       "    <tr>\n",
       "      <th>0</th>\n",
       "      <td>female</td>\n",
       "      <td>group B</td>\n",
       "      <td>bachelor's degree</td>\n",
       "      <td>standard</td>\n",
       "      <td>none</td>\n",
       "      <td>72</td>\n",
       "      <td>72</td>\n",
       "      <td>74</td>\n",
       "    </tr>\n",
       "    <tr>\n",
       "      <th>1</th>\n",
       "      <td>female</td>\n",
       "      <td>group C</td>\n",
       "      <td>some college</td>\n",
       "      <td>standard</td>\n",
       "      <td>completed</td>\n",
       "      <td>69</td>\n",
       "      <td>90</td>\n",
       "      <td>88</td>\n",
       "    </tr>\n",
       "    <tr>\n",
       "      <th>2</th>\n",
       "      <td>female</td>\n",
       "      <td>group B</td>\n",
       "      <td>master's degree</td>\n",
       "      <td>standard</td>\n",
       "      <td>none</td>\n",
       "      <td>90</td>\n",
       "      <td>95</td>\n",
       "      <td>93</td>\n",
       "    </tr>\n",
       "    <tr>\n",
       "      <th>3</th>\n",
       "      <td>male</td>\n",
       "      <td>group A</td>\n",
       "      <td>associate's degree</td>\n",
       "      <td>free/reduced</td>\n",
       "      <td>none</td>\n",
       "      <td>47</td>\n",
       "      <td>57</td>\n",
       "      <td>44</td>\n",
       "    </tr>\n",
       "    <tr>\n",
       "      <th>4</th>\n",
       "      <td>male</td>\n",
       "      <td>group C</td>\n",
       "      <td>some college</td>\n",
       "      <td>standard</td>\n",
       "      <td>none</td>\n",
       "      <td>76</td>\n",
       "      <td>78</td>\n",
       "      <td>75</td>\n",
       "    </tr>\n",
       "  </tbody>\n",
       "</table>\n",
       "</div>"
      ],
      "text/plain": [
       "   gender race/ethnicity parental level of education         lunch  \\\n",
       "0  female        group B           bachelor's degree      standard   \n",
       "1  female        group C                some college      standard   \n",
       "2  female        group B             master's degree      standard   \n",
       "3    male        group A          associate's degree  free/reduced   \n",
       "4    male        group C                some college      standard   \n",
       "\n",
       "  test preparation course  math score  reading score  writing score  \n",
       "0                    none          72             72             74  \n",
       "1               completed          69             90             88  \n",
       "2                    none          90             95             93  \n",
       "3                    none          47             57             44  \n",
       "4                    none          76             78             75  "
      ]
     },
     "execution_count": 10,
     "metadata": {},
     "output_type": "execute_result"
    }
   ],
   "source": [
    "# View sample data\n",
    "df.head(5)"
   ]
  },
  {
   "cell_type": "code",
   "execution_count": 3,
   "id": "72689054-c8e8-4667-ae5a-3e9e0b822ea2",
   "metadata": {},
   "outputs": [
    {
     "name": "stdout",
     "output_type": "stream",
     "text": [
      "Unique Genders: {'male', 'female'}\n",
      "Unique Race Groups: {'group D', 'group A', 'group B', 'group E', 'group C'}\n"
     ]
    }
   ],
   "source": [
    "#Create Sets from Dataset\n",
    "# Convert values to sets (to get unique entries)\n",
    "genders = set(df['gender'])\n",
    "races = set(df['race/ethnicity'])\n",
    "\n",
    "print(\"Unique Genders:\", genders)\n",
    "print(\"Unique Race Groups:\", races)\n"
   ]
  },
  {
   "cell_type": "code",
   "execution_count": 4,
   "id": "fa96295c-f347-45e7-97db-8e64bbbabc66",
   "metadata": {},
   "outputs": [
    {
     "name": "stdout",
     "output_type": "stream",
     "text": [
      "Genders after add(): {'male', 'non-binary', 'female'}\n"
     ]
    }
   ],
   "source": [
    "#Add Element to a Set (Example)\n",
    "# Add a new gender label (just for demo)\n",
    "genders.add(\"non-binary\")\n",
    "print(\"Genders after add():\", genders)\n"
   ]
  },
  {
   "cell_type": "code",
   "execution_count": 5,
   "id": "a26fa130-6171-47b1-9446-d46366cab573",
   "metadata": {},
   "outputs": [
    {
     "name": "stdout",
     "output_type": "stream",
     "text": [
      "Genders after remove(): {'male', 'female'}\n"
     ]
    }
   ],
   "source": [
    "#Remove Element from Set\n",
    "# Remove 'non-binary' again\n",
    "genders.remove(\"non-binary\")\n",
    "print(\"Genders after remove():\", genders)\n"
   ]
  },
  {
   "cell_type": "code",
   "execution_count": 6,
   "id": "a98737e9-fcce-473a-a53c-497b366cc148",
   "metadata": {},
   "outputs": [
    {
     "name": "stdout",
     "output_type": "stream",
     "text": [
      "Union (Class1 ∪ Class2): {'male', 'female'}\n"
     ]
    }
   ],
   "source": [
    "# Union Example\n",
    "# Let's create two fake sets of genders from two different classes\n",
    "class1_genders = set(df['gender'][:50])\n",
    "class2_genders = set(df['gender'][50:100])\n",
    "\n",
    "all_genders = class1_genders.union(class2_genders)\n",
    "print(\"Union (Class1 ∪ Class2):\", all_genders)\n"
   ]
  },
  {
   "cell_type": "code",
   "execution_count": 7,
   "id": "22328c13-925a-4dfb-8949-8795ed34b089",
   "metadata": {},
   "outputs": [
    {
     "name": "stdout",
     "output_type": "stream",
     "text": [
      "Intersection (Class1 ∩ Class2): {'male', 'female'}\n"
     ]
    }
   ],
   "source": [
    "# Intersection Example\n",
    "common_genders = class1_genders.intersection(class2_genders)\n",
    "print(\"Intersection (Class1 ∩ Class2):\", common_genders)\n"
   ]
  },
  {
   "cell_type": "code",
   "execution_count": 8,
   "id": "65d03442-0a2e-4146-8186-447b6766f19f",
   "metadata": {},
   "outputs": [
    {
     "name": "stdout",
     "output_type": "stream",
     "text": [
      "Genders only in Class 1: set()\n"
     ]
    }
   ],
   "source": [
    "#Difference Example\n",
    "only_in_class1 = class1_genders.difference(class2_genders)\n",
    "print(\"Genders only in Class 1:\", only_in_class1)\n"
   ]
  },
  {
   "cell_type": "code",
   "execution_count": null,
   "id": "8ad02867-417c-4380-b007-b3f6dce1489a",
   "metadata": {},
   "outputs": [],
   "source": []
  }
 ],
 "metadata": {
  "kernelspec": {
   "display_name": "Python 3 (ipykernel)",
   "language": "python",
   "name": "python3"
  },
  "language_info": {
   "codemirror_mode": {
    "name": "ipython",
    "version": 3
   },
   "file_extension": ".py",
   "mimetype": "text/x-python",
   "name": "python",
   "nbconvert_exporter": "python",
   "pygments_lexer": "ipython3",
   "version": "3.13.2"
  }
 },
 "nbformat": 4,
 "nbformat_minor": 5
}
