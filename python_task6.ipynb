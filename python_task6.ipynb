{
 "cells": [
  {
   "cell_type": "code",
   "execution_count": 1,
   "id": "f1ab5a67-6794-4bd5-bdcd-f6b0a74368db",
   "metadata": {},
   "outputs": [],
   "source": [
    "import pandas as pd"
   ]
  },
  {
   "cell_type": "code",
   "execution_count": 2,
   "id": "08a9f7c9-4d73-49a2-a033-7fca8b83a7eb",
   "metadata": {},
   "outputs": [],
   "source": [
    "# Load the dataset\n",
    "df = pd.read_csv(\"StudentsPerformance.csv\")"
   ]
  },
  {
   "cell_type": "code",
   "execution_count": 3,
   "id": "ccffaea4-b583-48e7-bb2d-e0f310989646",
   "metadata": {},
   "outputs": [
    {
     "name": "stdout",
     "output_type": "stream",
     "text": [
      "gender                                    female\n",
      "race/ethnicity                           group B\n",
      "parental level of education    bachelor's degree\n",
      "lunch                                   standard\n",
      "test preparation course                     none\n",
      "math score                                    72\n",
      "reading score                                 72\n",
      "writing score                                 74\n",
      "Name: 0, dtype: object\n"
     ]
    }
   ],
   "source": [
    "# Show a sample student record\n",
    "print(df.iloc[0])"
   ]
  },
  {
   "cell_type": "code",
   "execution_count": 4,
   "id": "62600f19-d5ae-44fb-a275-a7df7da98c9e",
   "metadata": {},
   "outputs": [
    {
     "name": "stdout",
     "output_type": "stream",
     "text": [
      "Student dictionary:\n",
      " {'gender': 'female', 'race/ethnicity': 'group B', 'parental level of education': \"bachelor's degree\", 'lunch': 'standard', 'test preparation course': 'none', 'math score': 72, 'reading score': 72, 'writing score': 74}\n"
     ]
    }
   ],
   "source": [
    "#Create Dictionary from Dataset\n",
    "# Convert first row (a student's data) to dictionary\n",
    "student = df.iloc[0].to_dict()\n",
    "\n",
    "print(\"Student dictionary:\\n\", student)\n"
   ]
  },
  {
   "cell_type": "code",
   "execution_count": 5,
   "id": "e4eaac02-8d05-4159-b682-e98b4a865f61",
   "metadata": {},
   "outputs": [
    {
     "name": "stdout",
     "output_type": "stream",
     "text": [
      "Gender: female\n",
      "Math Score: 72\n",
      "Parental Level of Education: bachelor's degree\n"
     ]
    }
   ],
   "source": [
    "#Accessing Key-Value Pairs\n",
    "# Access a specific value using key\n",
    "print(\"Gender:\", student['gender'])\n",
    "print(\"Math Score:\", student['math score'])\n",
    "\n",
    "# Using get() method\n",
    "print(\"Parental Level of Education:\", student.get('parental level of education'))\n"
   ]
  },
  {
   "cell_type": "code",
   "execution_count": 6,
   "id": "08966e6e-6069-4d79-ab17-b30949f7ebb1",
   "metadata": {},
   "outputs": [
    {
     "name": "stdout",
     "output_type": "stream",
     "text": [
      "After adding grade: {'gender': 'female', 'race/ethnicity': 'group B', 'parental level of education': \"bachelor's degree\", 'lunch': 'standard', 'test preparation course': 'none', 'math score': 72, 'reading score': 72, 'writing score': 74, 'grade': 'A'}\n"
     ]
    }
   ],
   "source": [
    "#Add New Item\n",
    "# Add a new key-value pair\n",
    "student['grade'] = 'A'\n",
    "print(\"After adding grade:\", student)\n"
   ]
  },
  {
   "cell_type": "code",
   "execution_count": 7,
   "id": "8948af63-8e7c-4583-9c56-f3651d939193",
   "metadata": {},
   "outputs": [
    {
     "name": "stdout",
     "output_type": "stream",
     "text": [
      "After removing grade: {'gender': 'female', 'race/ethnicity': 'group B', 'parental level of education': \"bachelor's degree\", 'lunch': 'standard', 'test preparation course': 'none', 'math score': 72, 'reading score': 72, 'writing score': 74}\n"
     ]
    }
   ],
   "source": [
    "# Remove Item with pop()\n",
    "# Remove the new key we added\n",
    "student.pop('grade')\n",
    "print(\"After removing grade:\", student)\n"
   ]
  },
  {
   "cell_type": "code",
   "execution_count": 8,
   "id": "e898c793-a85a-4829-9d59-d44ff2e2584b",
   "metadata": {},
   "outputs": [
    {
     "name": "stdout",
     "output_type": "stream",
     "text": [
      "Updated math score: 100\n"
     ]
    }
   ],
   "source": [
    "# Update Existing Value\n",
    "# Update the math score\n",
    "student.update({'math score': 100})\n",
    "print(\"Updated math score:\", student['math score'])\n"
   ]
  },
  {
   "cell_type": "code",
   "execution_count": 9,
   "id": "0a546824-1554-45ef-b58b-0a60efe994db",
   "metadata": {},
   "outputs": [
    {
     "name": "stdout",
     "output_type": "stream",
     "text": [
      "All keys: dict_keys(['gender', 'race/ethnicity', 'parental level of education', 'lunch', 'test preparation course', 'math score', 'reading score', 'writing score'])\n",
      "All values: dict_values(['female', 'group B', \"bachelor's degree\", 'standard', 'none', 100, 72, 74])\n",
      "All items: dict_items([('gender', 'female'), ('race/ethnicity', 'group B'), ('parental level of education', \"bachelor's degree\"), ('lunch', 'standard'), ('test preparation course', 'none'), ('math score', 100), ('reading score', 72), ('writing score', 74)])\n"
     ]
    }
   ],
   "source": [
    "# Get All Keys, Values, and Items\n",
    "# Keys\n",
    "print(\"All keys:\", student.keys())\n",
    "\n",
    "# Values\n",
    "print(\"All values:\", student.values())\n",
    "\n",
    "# Items (key-value pairs)\n",
    "print(\"All items:\", student.items())\n"
   ]
  },
  {
   "cell_type": "code",
   "execution_count": null,
   "id": "a448e0dd-0412-4ca8-a9c6-0ee4018602c6",
   "metadata": {},
   "outputs": [],
   "source": []
  }
 ],
 "metadata": {
  "kernelspec": {
   "display_name": "Python 3 (ipykernel)",
   "language": "python",
   "name": "python3"
  },
  "language_info": {
   "codemirror_mode": {
    "name": "ipython",
    "version": 3
   },
   "file_extension": ".py",
   "mimetype": "text/x-python",
   "name": "python",
   "nbconvert_exporter": "python",
   "pygments_lexer": "ipython3",
   "version": "3.13.2"
  }
 },
 "nbformat": 4,
 "nbformat_minor": 5
}
