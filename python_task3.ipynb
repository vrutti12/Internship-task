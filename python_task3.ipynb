{
 "cells": [
  {
   "cell_type": "code",
   "execution_count": 1,
   "id": "29510c86-967a-4e46-a2c5-b430a55206f7",
   "metadata": {},
   "outputs": [],
   "source": [
    "import pandas as pd"
   ]
  },
  {
   "cell_type": "code",
   "execution_count": 2,
   "id": "78d86005-9d2e-446f-9486-f973dfa28495",
   "metadata": {},
   "outputs": [],
   "source": [
    "# Load the dataset\n",
    "df = pd.read_csv(\"top50.csv\", encoding='ISO-8859-1')"
   ]
  },
  {
   "cell_type": "code",
   "execution_count": 3,
   "id": "9676177d-50d3-4cac-abde-8a90813cc076",
   "metadata": {},
   "outputs": [],
   "source": [
    "# Convert song names to a Python list\n",
    "songs = df['Track.Name'].tolist()"
   ]
  },
  {
   "cell_type": "code",
   "execution_count": 10,
   "id": "3d221930-0af8-4afd-85e8-808897303cf5",
   "metadata": {},
   "outputs": [
    {
     "data": {
      "text/html": [
       "<div>\n",
       "<style scoped>\n",
       "    .dataframe tbody tr th:only-of-type {\n",
       "        vertical-align: middle;\n",
       "    }\n",
       "\n",
       "    .dataframe tbody tr th {\n",
       "        vertical-align: top;\n",
       "    }\n",
       "\n",
       "    .dataframe thead th {\n",
       "        text-align: right;\n",
       "    }\n",
       "</style>\n",
       "<table border=\"1\" class=\"dataframe\">\n",
       "  <thead>\n",
       "    <tr style=\"text-align: right;\">\n",
       "      <th></th>\n",
       "      <th>Unnamed: 0</th>\n",
       "      <th>Track.Name</th>\n",
       "      <th>Artist.Name</th>\n",
       "      <th>Genre</th>\n",
       "      <th>Beats.Per.Minute</th>\n",
       "      <th>Energy</th>\n",
       "      <th>Danceability</th>\n",
       "      <th>Loudness..dB..</th>\n",
       "      <th>Liveness</th>\n",
       "      <th>Valence.</th>\n",
       "      <th>Length.</th>\n",
       "      <th>Acousticness..</th>\n",
       "      <th>Speechiness.</th>\n",
       "      <th>Popularity</th>\n",
       "    </tr>\n",
       "  </thead>\n",
       "  <tbody>\n",
       "    <tr>\n",
       "      <th>0</th>\n",
       "      <td>1</td>\n",
       "      <td>Señorita</td>\n",
       "      <td>Shawn Mendes</td>\n",
       "      <td>canadian pop</td>\n",
       "      <td>117</td>\n",
       "      <td>55</td>\n",
       "      <td>76</td>\n",
       "      <td>-6</td>\n",
       "      <td>8</td>\n",
       "      <td>75</td>\n",
       "      <td>191</td>\n",
       "      <td>4</td>\n",
       "      <td>3</td>\n",
       "      <td>79</td>\n",
       "    </tr>\n",
       "    <tr>\n",
       "      <th>1</th>\n",
       "      <td>2</td>\n",
       "      <td>China</td>\n",
       "      <td>Anuel AA</td>\n",
       "      <td>reggaeton flow</td>\n",
       "      <td>105</td>\n",
       "      <td>81</td>\n",
       "      <td>79</td>\n",
       "      <td>-4</td>\n",
       "      <td>8</td>\n",
       "      <td>61</td>\n",
       "      <td>302</td>\n",
       "      <td>8</td>\n",
       "      <td>9</td>\n",
       "      <td>92</td>\n",
       "    </tr>\n",
       "    <tr>\n",
       "      <th>2</th>\n",
       "      <td>3</td>\n",
       "      <td>boyfriend (with Social House)</td>\n",
       "      <td>Ariana Grande</td>\n",
       "      <td>dance pop</td>\n",
       "      <td>190</td>\n",
       "      <td>80</td>\n",
       "      <td>40</td>\n",
       "      <td>-4</td>\n",
       "      <td>16</td>\n",
       "      <td>70</td>\n",
       "      <td>186</td>\n",
       "      <td>12</td>\n",
       "      <td>46</td>\n",
       "      <td>85</td>\n",
       "    </tr>\n",
       "    <tr>\n",
       "      <th>3</th>\n",
       "      <td>4</td>\n",
       "      <td>Beautiful People (feat. Khalid)</td>\n",
       "      <td>Ed Sheeran</td>\n",
       "      <td>pop</td>\n",
       "      <td>93</td>\n",
       "      <td>65</td>\n",
       "      <td>64</td>\n",
       "      <td>-8</td>\n",
       "      <td>8</td>\n",
       "      <td>55</td>\n",
       "      <td>198</td>\n",
       "      <td>12</td>\n",
       "      <td>19</td>\n",
       "      <td>86</td>\n",
       "    </tr>\n",
       "    <tr>\n",
       "      <th>4</th>\n",
       "      <td>5</td>\n",
       "      <td>Goodbyes (Feat. Young Thug)</td>\n",
       "      <td>Post Malone</td>\n",
       "      <td>dfw rap</td>\n",
       "      <td>150</td>\n",
       "      <td>65</td>\n",
       "      <td>58</td>\n",
       "      <td>-4</td>\n",
       "      <td>11</td>\n",
       "      <td>18</td>\n",
       "      <td>175</td>\n",
       "      <td>45</td>\n",
       "      <td>7</td>\n",
       "      <td>94</td>\n",
       "    </tr>\n",
       "  </tbody>\n",
       "</table>\n",
       "</div>"
      ],
      "text/plain": [
       "   Unnamed: 0                       Track.Name    Artist.Name           Genre  \\\n",
       "0           1                         Señorita   Shawn Mendes    canadian pop   \n",
       "1           2                            China       Anuel AA  reggaeton flow   \n",
       "2           3    boyfriend (with Social House)  Ariana Grande       dance pop   \n",
       "3           4  Beautiful People (feat. Khalid)     Ed Sheeran             pop   \n",
       "4           5      Goodbyes (Feat. Young Thug)    Post Malone         dfw rap   \n",
       "\n",
       "   Beats.Per.Minute  Energy  Danceability  Loudness..dB..  Liveness  Valence.  \\\n",
       "0               117      55            76              -6         8        75   \n",
       "1               105      81            79              -4         8        61   \n",
       "2               190      80            40              -4        16        70   \n",
       "3                93      65            64              -8         8        55   \n",
       "4               150      65            58              -4        11        18   \n",
       "\n",
       "   Length.  Acousticness..  Speechiness.  Popularity  \n",
       "0      191               4             3          79  \n",
       "1      302               8             9          92  \n",
       "2      186              12            46          85  \n",
       "3      198              12            19          86  \n",
       "4      175              45             7          94  "
      ]
     },
     "execution_count": 10,
     "metadata": {},
     "output_type": "execute_result"
    }
   ],
   "source": [
    "df.head(5)"
   ]
  },
  {
   "cell_type": "code",
   "execution_count": 5,
   "id": "62836e78-7e41-4e87-8b4a-4bea4d2ec557",
   "metadata": {},
   "outputs": [
    {
     "name": "stdout",
     "output_type": "stream",
     "text": [
      "First song: Señorita\n",
      "Last song: Cross Me (feat. Chance the Rapper & PnB Rock)\n",
      "First 3 songs: ['Señorita', 'China', 'boyfriend (with Social House)']\n"
     ]
    }
   ],
   "source": [
    "# Access first element\n",
    "print(\"First song:\", songs[0])\n",
    "\n",
    "# Access last element\n",
    "print(\"Last song:\", songs[-1])\n",
    "\n",
    "# Slice first 3 songs\n",
    "print(\"First 3 songs:\", songs[0:3])\n"
   ]
  },
  {
   "cell_type": "code",
   "execution_count": 6,
   "id": "78d21b6f-3f44-463d-862e-59e8b9baf419",
   "metadata": {},
   "outputs": [
    {
     "name": "stdout",
     "output_type": "stream",
     "text": [
      "Modified song at index 1: My Favorite Song\n"
     ]
    }
   ],
   "source": [
    "#Modifying Elements\n",
    "# Change the name of the second song\n",
    "songs[1] = \"My Favorite Song\"\n",
    "print(\"Modified song at index 1:\", songs[1])\n"
   ]
  },
  {
   "cell_type": "code",
   "execution_count": 7,
   "id": "dfed367e-9c36-46db-ad6b-6539567a9dfa",
   "metadata": {},
   "outputs": [
    {
     "name": "stdout",
     "output_type": "stream",
     "text": [
      "Last 3 songs: ['Call You Mine', 'Cross Me (feat. Chance the Rapper & PnB Rock)', 'Newly Added Song']\n"
     ]
    }
   ],
   "source": [
    "#Adding Elements\n",
    "# Append a new song to the end\n",
    "songs.append(\"Newly Added Song\")\n",
    "\n",
    "# Insert a song at index 2\n",
    "songs.insert(2, \"Inserted Song\")\n",
    "\n",
    "# Print last 3 to see changes\n",
    "print(\"Last 3 songs:\", songs[-3:])\n"
   ]
  },
  {
   "cell_type": "code",
   "execution_count": 8,
   "id": "d9c29b8c-c819-42d4-af5c-f861a96301d5",
   "metadata": {},
   "outputs": [
    {
     "name": "stdout",
     "output_type": "stream",
     "text": [
      "Removed song at index 2: Inserted Song\n"
     ]
    }
   ],
   "source": [
    " #Removing Elements\n",
    "# Remove a song by name\n",
    "songs.remove(\"Newly Added Song\")  # Make sure it exists\n",
    "\n",
    "# Remove a song by index\n",
    "removed_song = songs.pop(2)  # Removes \"Inserted Song\"\n",
    "print(\"Removed song at index 2:\", removed_song)\n",
    "\n",
    "# Optional: Clear the whole list\n",
    "# songs.clear()\n"
   ]
  },
  {
   "cell_type": "code",
   "execution_count": 9,
   "id": "40a6b645-906d-4794-a21d-0f4ddfa09693",
   "metadata": {},
   "outputs": [
    {
     "name": "stdout",
     "output_type": "stream",
     "text": [
      "Sorted list: [1, 3, 5, 5, 9]\n",
      "Reversed list: [9, 5, 5, 3, 1]\n",
      "Extended list: [9, 5, 5, 3, 1, 7, 8]\n",
      "Count of 5: 2\n",
      "Index of 9: 0\n",
      "Copied list: [9, 5, 5, 3, 1, 7, 8]\n"
     ]
    }
   ],
   "source": [
    "#Other List Methods\n",
    "# Create a sample list of numbers\n",
    "numbers = [5, 1, 3, 5, 9]\n",
    "\n",
    "# Sort\n",
    "numbers.sort()\n",
    "print(\"Sorted list:\", numbers)\n",
    "\n",
    "# Reverse\n",
    "numbers.reverse()\n",
    "print(\"Reversed list:\", numbers)\n",
    "\n",
    "# Extend with another list\n",
    "numbers.extend([7, 8])\n",
    "print(\"Extended list:\", numbers)\n",
    "\n",
    "# Count occurrences\n",
    "print(\"Count of 5:\", numbers.count(5))\n",
    "\n",
    "# Index of a value\n",
    "print(\"Index of 9:\", numbers.index(9))\n",
    "\n",
    "# Copy the list\n",
    "copy_of_numbers = numbers.copy()\n",
    "print(\"Copied list:\", copy_of_numbers)\n"
   ]
  },
  {
   "cell_type": "code",
   "execution_count": null,
   "id": "8dd0a961-f36c-4a9c-954d-bb475f61fd91",
   "metadata": {},
   "outputs": [],
   "source": []
  }
 ],
 "metadata": {
  "kernelspec": {
   "display_name": "Python 3 (ipykernel)",
   "language": "python",
   "name": "python3"
  },
  "language_info": {
   "codemirror_mode": {
    "name": "ipython",
    "version": 3
   },
   "file_extension": ".py",
   "mimetype": "text/x-python",
   "name": "python",
   "nbconvert_exporter": "python",
   "pygments_lexer": "ipython3",
   "version": "3.13.2"
  }
 },
 "nbformat": 4,
 "nbformat_minor": 5
}
